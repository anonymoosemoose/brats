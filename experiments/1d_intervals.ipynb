{
 "cells": [
  {
   "cell_type": "markdown",
   "metadata": {},
   "source": [
    "# Visulization of Built-In Interval Estimations on a 1d Signal"
   ]
  },
  {
   "cell_type": "markdown",
   "metadata": {},
   "source": [
    "This notebook provide an example of our built-in interval estimations: We give such estimations on a 1d signal:\n",
    "$$\n",
    "f(X)=\\sin(2\\pi X)+0.5X^2, X\\sim Unif[0,1]\n",
    "$$"
   ]
  },
  {
   "cell_type": "markdown",
   "metadata": {},
   "source": [
    "## Helper Cells"
   ]
  },
  {
   "cell_type": "code",
   "execution_count": 1,
   "metadata": {},
   "outputs": [],
   "source": [
    "import sys, os\n",
    "sys.path.insert(0, os.path.abspath(\"../src\"))\n",
    "import numpy as np\n",
    "import pandas as pd\n",
    "import os\n",
    "import matplotlib.pyplot as plt\n",
    "import matplotlib.colors as mcolors\n",
    "from scipy.stats import norm\n",
    "from tqdm import tqdm\n",
    "from itertools import product\n",
    "from sklearn.model_selection import ParameterSampler\n",
    "from BRAT.algorithms import BRATD\n",
    "from BRAT.utils import generate_data, find_min_scale"
   ]
  },
  {
   "cell_type": "code",
   "execution_count": 2,
   "metadata": {},
   "outputs": [],
   "source": [
    "plt.style.use('../matplotlibrc')\n",
    "plt.rcParams['xtick.labelsize'] = 6\n",
    "plt.rcParams['ytick.labelsize'] = 6"
   ]
  },
  {
   "cell_type": "code",
   "execution_count": 3,
   "metadata": {},
   "outputs": [],
   "source": [
    "import matplotlib.colors as mcolors\n",
    "\n",
    "def darken(color, factor=0.7):\n",
    "    \"\"\"\n",
    "    Darken a hex color by multiplying its RGB components by `factor` (0 < factor < 1).\n",
    "    \"\"\"\n",
    "    rgb = np.array(mcolors.to_rgb(color))\n",
    "    darker = np.clip(rgb * factor, 0, 1)\n",
    "    return mcolors.to_hex(darker)"
   ]
  },
  {
   "cell_type": "markdown",
   "metadata": {},
   "source": [
    "The following function helps us calibrate the intervals to increase coverage."
   ]
  },
  {
   "cell_type": "code",
   "execution_count": 4,
   "metadata": {},
   "outputs": [],
   "source": [
    "def calibrate_scale(widths_cal, y_cal, y_pred_cal, alpha=0.05):\n",
    "    \"\"\"\n",
    "    Two-stage search for global c so that empirical coverage ≈ 1-alpha.\n",
    "    \"\"\"\n",
    "    n = len(y_cal)\n",
    "    def cov(c):\n",
    "        lo = y_pred_cal - c * widths_cal\n",
    "        hi = y_pred_cal + c * widths_cal\n",
    "        return np.mean((y_cal >= lo) & (y_cal <= hi))\n",
    "\n",
    "    # exponential search\n",
    "    c = 1.0\n",
    "    if cov(c) < 1 - alpha:\n",
    "        while cov(c) < 1 - alpha:\n",
    "            c *= 2\n",
    "    C = c\n",
    "\n",
    "    # binary refine on [0, C]\n",
    "    lo, hi = 0.0, C\n",
    "    tol = 2.0 / n\n",
    "    while hi - lo > tol:\n",
    "        mid = (lo + hi) / 2\n",
    "        if cov(mid) < 1 - alpha:\n",
    "            lo = mid\n",
    "        else:\n",
    "            hi = mid\n",
    "    return hi"
   ]
  },
  {
   "cell_type": "markdown",
   "metadata": {},
   "source": [
    "## Visualization"
   ]
  },
  {
   "cell_type": "markdown",
   "metadata": {},
   "source": [
    "### Data Generation"
   ]
  },
  {
   "cell_type": "code",
   "execution_count": 6,
   "metadata": {},
   "outputs": [],
   "source": [
    "# data configuration\n",
    "np.random.seed(42)\n",
    "n_train = 1000\n",
    "n_test = 300\n",
    "n_cal = 200\n",
    "noise_std = 1\n",
    "\n",
    "# underlying signal\n",
    "f = lambda x: np.sin(2*np.pi*x) + 0.5 * x**2\n",
    "\n",
    "# uniform samples on [0,1]\n",
    "X_train = np.random.rand(n_train,1)   # shape (n_train,1)\n",
    "X_test  = np.random.rand(n_test,1)   # shape (n_test,1)\n",
    "X_cal   = np.random.rand(n_cal,1)   # shape (n_cal,1)\n",
    "X_plot  = np.linspace(0, 1, n_test).reshape(-1,1)\n",
    "\n",
    "# true signal\n",
    "y_train_true = f(X_train).flatten()\n",
    "y_test_true  = f(X_test).flatten()\n",
    "y_cal_true   = f(X_cal).flatten()\n",
    "\n",
    "# simulated observations\n",
    "y_train = y_train_true + noise_std * np.random.randn(n_train)\n",
    "y_test  = y_test_true  + noise_std * np.random.randn(n_test)\n",
    "y_cal   = y_cal_true + noise_std * np.random.randn(n_cal)"
   ]
  },
  {
   "cell_type": "markdown",
   "metadata": {},
   "source": [
    "### Interval Estimations"
   ]
  },
  {
   "cell_type": "code",
   "execution_count": 30,
   "metadata": {},
   "outputs": [],
   "source": [
    "# Simply add the parameter of interest here in the dictionary\n",
    "param_dist = {\n",
    "    'n_estimators': [50],\n",
    "    'learning_rate': [0.6],\n",
    "    'max_depth':      [8],\n",
    "    'subsample_rate': [1.0],\n",
    "    'dropout_rate':   [0.95]\n",
    "}\n",
    "# If you are interested in one particular set of hps, set n_iter = 1;\n",
    "# If you would like to explore some combinations of those hps, increase your budget n_iter\n",
    "n_iter = 1\n",
    "sampler = list(ParameterSampler(param_dist, n_iter=n_iter, random_state=42))\n",
    "output_dir = '../experiments/1d/data/'\n",
    "os.makedirs(output_dir, exist_ok=True)"
   ]
  },
  {
   "cell_type": "code",
   "execution_count": 31,
   "metadata": {},
   "outputs": [
    {
     "name": "stderr",
     "output_type": "stream",
     "text": [
      "Grid Searching...:   0%|          | 0/1 [00:00<?, ?it/s]"
     ]
    },
    {
     "name": "stdout",
     "output_type": "stream",
     "text": [
      "Singular matrix encountered during sketching. Falling back to full K.\n"
     ]
    },
    {
     "name": "stderr",
     "output_type": "stream",
     "text": [
      "Iterating test points...: 300it [00:28, 10.70it/s]\n"
     ]
    },
    {
     "name": "stdout",
     "output_type": "stream",
     "text": [
      "Singular matrix encountered during sketching. Falling back to full K.\n"
     ]
    },
    {
     "name": "stderr",
     "output_type": "stream",
     "text": [
      "Iterating test points...: 300it [00:30,  9.87it/s]\n"
     ]
    },
    {
     "name": "stdout",
     "output_type": "stream",
     "text": [
      "Singular matrix encountered during sketching. Falling back to full K.\n"
     ]
    },
    {
     "name": "stderr",
     "output_type": "stream",
     "text": [
      "Iterating test points...: 300it [00:28, 10.46it/s]\n"
     ]
    },
    {
     "name": "stdout",
     "output_type": "stream",
     "text": [
      "Singular matrix encountered during sketching. Falling back to full K.\n"
     ]
    },
    {
     "name": "stderr",
     "output_type": "stream",
     "text": [
      "Iterating test points...: 300it [00:24, 12.08it/s]\n"
     ]
    },
    {
     "name": "stdout",
     "output_type": "stream",
     "text": [
      "Singular matrix encountered during sketching. Falling back to full K.\n"
     ]
    },
    {
     "name": "stderr",
     "output_type": "stream",
     "text": [
      "Iterating test points...: 300it [00:22, 13.27it/s]\n"
     ]
    },
    {
     "name": "stdout",
     "output_type": "stream",
     "text": [
      "Singular matrix encountered during sketching. Falling back to full K.\n"
     ]
    },
    {
     "name": "stderr",
     "output_type": "stream",
     "text": [
      "Iterating test points...: 300it [00:25, 11.80it/s]\n"
     ]
    },
    {
     "name": "stdout",
     "output_type": "stream",
     "text": [
      "Singular matrix encountered during sketching. Falling back to full K.\n"
     ]
    },
    {
     "name": "stderr",
     "output_type": "stream",
     "text": [
      "Iterating test points...: 300it [00:27, 10.88it/s]\n"
     ]
    },
    {
     "name": "stdout",
     "output_type": "stream",
     "text": [
      "Singular matrix encountered during sketching. Falling back to full K.\n"
     ]
    },
    {
     "name": "stderr",
     "output_type": "stream",
     "text": [
      "Iterating test points...: 300it [00:30,  9.83it/s]\n"
     ]
    },
    {
     "name": "stdout",
     "output_type": "stream",
     "text": [
      "Singular matrix encountered during sketching. Falling back to full K.\n"
     ]
    },
    {
     "name": "stderr",
     "output_type": "stream",
     "text": [
      "Iterating test points...: 300it [00:19, 15.45it/s]\n"
     ]
    },
    {
     "name": "stdout",
     "output_type": "stream",
     "text": [
      "Singular matrix encountered during sketching. Falling back to full K.\n"
     ]
    },
    {
     "name": "stderr",
     "output_type": "stream",
     "text": [
      "Iterating test points...: 300it [00:22, 13.08it/s]\n"
     ]
    },
    {
     "name": "stdout",
     "output_type": "stream",
     "text": [
      "Singular matrix encountered during sketching. Falling back to full K.\n"
     ]
    },
    {
     "name": "stderr",
     "output_type": "stream",
     "text": [
      "Iterating test points...: 300it [00:33,  8.85it/s]\n"
     ]
    },
    {
     "name": "stdout",
     "output_type": "stream",
     "text": [
      "Singular matrix encountered during sketching. Falling back to full K.\n"
     ]
    },
    {
     "name": "stderr",
     "output_type": "stream",
     "text": [
      "Iterating test points...: 300it [01:02,  4.83it/s]\n"
     ]
    },
    {
     "name": "stdout",
     "output_type": "stream",
     "text": [
      "Singular matrix encountered during sketching. Falling back to full K.\n"
     ]
    },
    {
     "name": "stderr",
     "output_type": "stream",
     "text": [
      "Iterating test points...: 300it [00:30, 10.00it/s]\n"
     ]
    },
    {
     "name": "stdout",
     "output_type": "stream",
     "text": [
      "Singular matrix encountered during sketching. Falling back to full K.\n"
     ]
    },
    {
     "name": "stderr",
     "output_type": "stream",
     "text": [
      "Iterating test points...: 300it [00:23, 12.99it/s]\n"
     ]
    },
    {
     "name": "stdout",
     "output_type": "stream",
     "text": [
      "Singular matrix encountered during sketching. Falling back to full K.\n"
     ]
    },
    {
     "name": "stderr",
     "output_type": "stream",
     "text": [
      "Iterating test points...: 300it [00:21, 14.18it/s]\n"
     ]
    },
    {
     "name": "stdout",
     "output_type": "stream",
     "text": [
      "Singular matrix encountered during sketching. Falling back to full K.\n"
     ]
    },
    {
     "name": "stderr",
     "output_type": "stream",
     "text": [
      "Iterating test points...: 300it [00:19, 15.78it/s]\n"
     ]
    },
    {
     "name": "stdout",
     "output_type": "stream",
     "text": [
      "Singular matrix encountered during sketching. Falling back to full K.\n"
     ]
    },
    {
     "name": "stderr",
     "output_type": "stream",
     "text": [
      "Iterating test points...: 300it [00:21, 13.89it/s]\n"
     ]
    },
    {
     "name": "stdout",
     "output_type": "stream",
     "text": [
      "Singular matrix encountered during sketching. Falling back to full K.\n"
     ]
    },
    {
     "name": "stderr",
     "output_type": "stream",
     "text": [
      "Iterating test points...: 300it [00:21, 13.97it/s]\n"
     ]
    },
    {
     "name": "stdout",
     "output_type": "stream",
     "text": [
      "Singular matrix encountered during sketching. Falling back to full K.\n"
     ]
    },
    {
     "name": "stderr",
     "output_type": "stream",
     "text": [
      "Iterating test points...: 300it [00:19, 15.45it/s]\n"
     ]
    },
    {
     "name": "stdout",
     "output_type": "stream",
     "text": [
      "Singular matrix encountered during sketching. Falling back to full K.\n"
     ]
    },
    {
     "name": "stderr",
     "output_type": "stream",
     "text": [
      "Iterating test points...: 300it [00:17, 17.60it/s]\n"
     ]
    },
    {
     "name": "stdout",
     "output_type": "stream",
     "text": [
      "Singular matrix encountered during sketching. Falling back to full K.\n"
     ]
    },
    {
     "name": "stderr",
     "output_type": "stream",
     "text": [
      "Iterating test points...: 300it [00:20, 14.83it/s]\n"
     ]
    },
    {
     "name": "stdout",
     "output_type": "stream",
     "text": [
      "Singular matrix encountered during sketching. Falling back to full K.\n"
     ]
    },
    {
     "name": "stderr",
     "output_type": "stream",
     "text": [
      "Iterating test points...: 300it [00:19, 15.27it/s]\n"
     ]
    },
    {
     "name": "stdout",
     "output_type": "stream",
     "text": [
      "Singular matrix encountered during sketching. Falling back to full K.\n"
     ]
    },
    {
     "name": "stderr",
     "output_type": "stream",
     "text": [
      "Iterating test points...: 300it [00:19, 15.09it/s]\n"
     ]
    },
    {
     "name": "stdout",
     "output_type": "stream",
     "text": [
      "Singular matrix encountered during sketching. Falling back to full K.\n"
     ]
    },
    {
     "name": "stderr",
     "output_type": "stream",
     "text": [
      "Iterating test points...: 300it [00:18, 16.16it/s]\n"
     ]
    },
    {
     "name": "stdout",
     "output_type": "stream",
     "text": [
      "Singular matrix encountered during sketching. Falling back to full K.\n"
     ]
    },
    {
     "name": "stderr",
     "output_type": "stream",
     "text": [
      "Iterating test points...: 300it [00:18, 15.84it/s]\n"
     ]
    },
    {
     "name": "stdout",
     "output_type": "stream",
     "text": [
      "Singular matrix encountered during sketching. Falling back to full K.\n"
     ]
    },
    {
     "name": "stderr",
     "output_type": "stream",
     "text": [
      "Iterating test points...: 300it [00:17, 16.84it/s]\n"
     ]
    },
    {
     "name": "stdout",
     "output_type": "stream",
     "text": [
      "Singular matrix encountered during sketching. Falling back to full K.\n"
     ]
    },
    {
     "name": "stderr",
     "output_type": "stream",
     "text": [
      "Iterating test points...: 300it [00:21, 13.76it/s]\n"
     ]
    },
    {
     "name": "stdout",
     "output_type": "stream",
     "text": [
      "Singular matrix encountered during sketching. Falling back to full K.\n"
     ]
    },
    {
     "name": "stderr",
     "output_type": "stream",
     "text": [
      "Iterating test points...: 300it [00:19, 15.37it/s]\n"
     ]
    },
    {
     "name": "stdout",
     "output_type": "stream",
     "text": [
      "Singular matrix encountered during sketching. Falling back to full K.\n"
     ]
    },
    {
     "name": "stderr",
     "output_type": "stream",
     "text": [
      "Iterating test points...: 300it [00:16, 18.25it/s]\n"
     ]
    },
    {
     "name": "stdout",
     "output_type": "stream",
     "text": [
      "Singular matrix encountered during sketching. Falling back to full K.\n"
     ]
    },
    {
     "name": "stderr",
     "output_type": "stream",
     "text": [
      "Iterating test points...: 300it [00:25, 11.58it/s]\n"
     ]
    },
    {
     "name": "stdout",
     "output_type": "stream",
     "text": [
      "Singular matrix encountered during sketching. Falling back to full K.\n"
     ]
    },
    {
     "name": "stderr",
     "output_type": "stream",
     "text": [
      "Iterating test points...: 300it [00:20, 14.90it/s]\n"
     ]
    },
    {
     "name": "stdout",
     "output_type": "stream",
     "text": [
      "Singular matrix encountered during sketching. Falling back to full K.\n"
     ]
    },
    {
     "name": "stderr",
     "output_type": "stream",
     "text": [
      "Iterating test points...: 300it [00:19, 15.21it/s]\n"
     ]
    },
    {
     "name": "stdout",
     "output_type": "stream",
     "text": [
      "Singular matrix encountered during sketching. Falling back to full K.\n"
     ]
    },
    {
     "name": "stderr",
     "output_type": "stream",
     "text": [
      "Iterating test points...: 300it [00:15, 19.60it/s]\n"
     ]
    },
    {
     "name": "stdout",
     "output_type": "stream",
     "text": [
      "Singular matrix encountered during sketching. Falling back to full K.\n"
     ]
    },
    {
     "name": "stderr",
     "output_type": "stream",
     "text": [
      "Iterating test points...: 300it [00:17, 16.85it/s]\n"
     ]
    },
    {
     "name": "stdout",
     "output_type": "stream",
     "text": [
      "Singular matrix encountered during sketching. Falling back to full K.\n"
     ]
    },
    {
     "name": "stderr",
     "output_type": "stream",
     "text": [
      "Iterating test points...: 300it [00:16, 17.85it/s]\n"
     ]
    },
    {
     "name": "stdout",
     "output_type": "stream",
     "text": [
      "Singular matrix encountered during sketching. Falling back to full K.\n"
     ]
    },
    {
     "name": "stderr",
     "output_type": "stream",
     "text": [
      "Iterating test points...: 300it [00:26, 11.46it/s]\n"
     ]
    },
    {
     "name": "stdout",
     "output_type": "stream",
     "text": [
      "Singular matrix encountered during sketching. Falling back to full K.\n"
     ]
    },
    {
     "name": "stderr",
     "output_type": "stream",
     "text": [
      "Iterating test points...: 300it [00:16, 18.62it/s]\n"
     ]
    },
    {
     "name": "stdout",
     "output_type": "stream",
     "text": [
      "Singular matrix encountered during sketching. Falling back to full K.\n"
     ]
    },
    {
     "name": "stderr",
     "output_type": "stream",
     "text": [
      "Iterating test points...: 300it [00:14, 20.53it/s]\n"
     ]
    },
    {
     "name": "stdout",
     "output_type": "stream",
     "text": [
      "Singular matrix encountered during sketching. Falling back to full K.\n"
     ]
    },
    {
     "name": "stderr",
     "output_type": "stream",
     "text": [
      "Iterating test points...: 300it [00:16, 18.73it/s]\n"
     ]
    },
    {
     "name": "stdout",
     "output_type": "stream",
     "text": [
      "Singular matrix encountered during sketching. Falling back to full K.\n"
     ]
    },
    {
     "name": "stderr",
     "output_type": "stream",
     "text": [
      "Iterating test points...: 300it [00:24, 12.29it/s]\n"
     ]
    },
    {
     "name": "stdout",
     "output_type": "stream",
     "text": [
      "Singular matrix encountered during sketching. Falling back to full K.\n"
     ]
    },
    {
     "name": "stderr",
     "output_type": "stream",
     "text": [
      "Iterating test points...: 300it [00:18, 16.66it/s]\n"
     ]
    },
    {
     "name": "stdout",
     "output_type": "stream",
     "text": [
      "Singular matrix encountered during sketching. Falling back to full K.\n"
     ]
    },
    {
     "name": "stderr",
     "output_type": "stream",
     "text": [
      "Iterating test points...: 300it [00:18, 16.38it/s]\n"
     ]
    },
    {
     "name": "stdout",
     "output_type": "stream",
     "text": [
      "Singular matrix encountered during sketching. Falling back to full K.\n"
     ]
    },
    {
     "name": "stderr",
     "output_type": "stream",
     "text": [
      "Iterating test points...: 300it [00:15, 19.53it/s]\n"
     ]
    },
    {
     "name": "stdout",
     "output_type": "stream",
     "text": [
      "Singular matrix encountered during sketching. Falling back to full K.\n"
     ]
    },
    {
     "name": "stderr",
     "output_type": "stream",
     "text": [
      "Iterating test points...: 300it [00:19, 15.56it/s]\n"
     ]
    },
    {
     "name": "stdout",
     "output_type": "stream",
     "text": [
      "Singular matrix encountered during sketching. Falling back to full K.\n"
     ]
    },
    {
     "name": "stderr",
     "output_type": "stream",
     "text": [
      "Iterating test points...: 300it [00:18, 16.01it/s]\n"
     ]
    },
    {
     "name": "stdout",
     "output_type": "stream",
     "text": [
      "Singular matrix encountered during sketching. Falling back to full K.\n"
     ]
    },
    {
     "name": "stderr",
     "output_type": "stream",
     "text": [
      "Iterating test points...: 300it [00:21, 14.05it/s]\n"
     ]
    },
    {
     "name": "stdout",
     "output_type": "stream",
     "text": [
      "Singular matrix encountered during sketching. Falling back to full K.\n"
     ]
    },
    {
     "name": "stderr",
     "output_type": "stream",
     "text": [
      "Iterating test points...: 300it [00:19, 15.02it/s]\n"
     ]
    },
    {
     "name": "stdout",
     "output_type": "stream",
     "text": [
      "Singular matrix encountered during sketching. Falling back to full K.\n"
     ]
    },
    {
     "name": "stderr",
     "output_type": "stream",
     "text": [
      "Iterating test points...: 300it [00:17, 17.53it/s]\n"
     ]
    },
    {
     "name": "stdout",
     "output_type": "stream",
     "text": [
      "Singular matrix encountered during sketching. Falling back to full K.\n"
     ]
    },
    {
     "name": "stderr",
     "output_type": "stream",
     "text": [
      "Iterating test points...: 300it [00:16, 18.20it/s]\n"
     ]
    },
    {
     "name": "stdout",
     "output_type": "stream",
     "text": [
      "Singular matrix encountered during sketching. Falling back to full K.\n"
     ]
    },
    {
     "name": "stderr",
     "output_type": "stream",
     "text": [
      "Iterating test points...: 300it [00:20, 14.72it/s]\n",
      "Grid Searching...: 100%|██████████| 1/1 [30:40<00:00, 1840.15s/it]\n"
     ]
    }
   ],
   "source": [
    "results = []\n",
    "# number of repetitions you want to iterate over to get the\n",
    "# average intervals\n",
    "reps = 50\n",
    "\n",
    "for params in tqdm(sampler,\n",
    "                               desc='Grid Searching...'):\n",
    "    # extract and cast to the right types\n",
    "    ne = int(params['n_estimators'])\n",
    "    lr = float(params['learning_rate'])\n",
    "    md = int(params['max_depth'])\n",
    "    sr = float(params['subsample_rate'])\n",
    "    dr = float(params['dropout_rate'])\n",
    "\n",
    "    model_results = []\n",
    "    for model_id in range(reps):\n",
    "        # Train BRATD model\n",
    "        bratd = BRATD(n_estimators=ne,\n",
    "                    learning_rate=lr,\n",
    "                    max_depth=md,\n",
    "                    subsample_rate=sr,\n",
    "                    dropout_rate=dr,\n",
    "                    disable_tqdm=True)\n",
    "        bratd.fit(X_train, y_train, X_test, y_test)\n",
    "\n",
    "        # Predict and compute CIs for each test point\n",
    "        bratd_pred = []\n",
    "        bratd_ci_lb = []\n",
    "        bratd_ci_ub = []\n",
    "        bratd_pi_lb = []\n",
    "        bratd_pi_ub = []\n",
    "        bratd_ri_lb = []\n",
    "        bratd_ri_ub = []\n",
    "        counter = 0\n",
    "\n",
    "        # Precompute the K matrix before entering the test point loop.\n",
    "        # For each model, all test points share a K matrix\n",
    "        sigma_hat2 = bratd.est_sigma_hat2(in_bag=False)\n",
    "        sigma_hat = np.sqrt(sigma_hat2)\n",
    "        bratd.unif_nystrom(Nystrom_subsample=0.05)\n",
    "        bratd.sketch_K()\n",
    "        lam = bratd.learning_rate\n",
    "        q = 1 - bratd.dropout_rate\n",
    "        s = (1 + lam * q) / lam\n",
    "\n",
    "        y_pred_cal = bratd.predict(X_cal)\n",
    "        res_cal = np.abs(y_pred_cal - y_cal)\n",
    "        qtel_hat = np.quantile(res_cal, 0.95)\n",
    "\n",
    "        y_pred_cal = []\n",
    "        tau_cal    = []\n",
    "        pi_sigma_cal = []\n",
    "        for x_cal in X_cal:\n",
    "            y_pc = bratd.predict(x_cal.reshape(1, -1)).item()\n",
    "            rn_c = bratd.sketch_r(x_cal.reshape(1, -1), vector=False).item()\n",
    "            t_c  = s * rn_c * sigma_hat\n",
    "            p_c  = np.sqrt(sigma_hat2 + t_c**2)\n",
    "\n",
    "            y_pred_cal.append(y_pc)\n",
    "            tau_cal.append(t_c)\n",
    "            pi_sigma_cal.append(p_c)\n",
    "        pi_sigma_cal = np.array(pi_sigma_cal)\n",
    "\n",
    "        # calibrate the prediction intervals here\n",
    "        c = find_min_scale(\n",
    "            y_true=y_cal,            \n",
    "            y_pred=y_pred_cal,\n",
    "            widths=norm.ppf(0.975)*pi_sigma_cal,\n",
    "            target=0.95\n",
    "        )\n",
    "\n",
    "        for i, x in tqdm(enumerate(X_test), desc='Iterating test points...'):\n",
    "            pred = bratd.predict(x.reshape(1, -1))\n",
    "            bratd_pred.append(pred)\n",
    "            rn_norm = bratd.sketch_r(x)\n",
    "            s = (1 + bratd.learning_rate * (1 - bratd.dropout_rate)) / bratd.learning_rate\n",
    "            tau_hat2 = (s**2 * rn_norm**2 * sigma_hat2)\n",
    "\n",
    "            # calibrated confidence interval, prediction interval and reproduction interval\n",
    "            ci_lb = pred - norm.ppf(0.975) * np.sqrt(tau_hat2)\n",
    "            ci_ub = pred + norm.ppf(0.975) * np.sqrt(tau_hat2)\n",
    "            c_ci_lb = pred - c * norm.ppf(0.975) * np.sqrt(tau_hat2)\n",
    "            c_ci_ub = pred + c * norm.ppf(0.975) * np.sqrt(tau_hat2)\n",
    "\n",
    "            pi_lb = pred - c * norm.ppf(0.975) * np.sqrt(tau_hat2 + sigma_hat2)\n",
    "            pi_ub = pred + c * norm.ppf(0.975) * np.sqrt(tau_hat2 + sigma_hat2)\n",
    "            c_pi_lb = pred - c * norm.ppf(0.975) * np.sqrt(tau_hat2 + sigma_hat2)\n",
    "            c_pi_ub = pred + c * norm.ppf(0.975) * np.sqrt(tau_hat2 + sigma_hat2)\n",
    "\n",
    "            ri_lb = pred - c * norm.ppf(0.975) * np.sqrt(2 * tau_hat2)\n",
    "            ri_ub = pred + c * norm.ppf(0.975) * np.sqrt(2 * tau_hat2)\n",
    "            c_ri_lb = pred - c * norm.ppf(0.975) * np.sqrt(2 * tau_hat2)\n",
    "            c_ri_ub = pred + c * norm.ppf(0.975) * np.sqrt(2 * tau_hat2)\n",
    "\n",
    "            cfml_lower = pred - qtel_hat\n",
    "            cfml_upper = pred + qtel_hat\n",
    "\n",
    "            ci_covered = int(ci_lb.item() <= y_test_true[i].item() <= ci_ub.item())\n",
    "            c_ci_covered = int(c_ci_lb.item() <= y_test_true[i].item() <= c_ci_ub.item())\n",
    "\n",
    "            cfml_covered = int(cfml_lower.item() <= y_test[i].item() <= cfml_upper.item())\n",
    "\n",
    "            pi_covered = int(pi_lb.item() <= y_test[i].item() <= pi_ub.item())\n",
    "            c_pi_covered = int(c_pi_lb.item() <= y_test[i].item() <= c_pi_ub.item())\n",
    "            \n",
    "            # store the data\n",
    "            model_results.append({\n",
    "                'pt_idx': i,\n",
    "                'model_id': model_id,\n",
    "                'pred': pred.item(),\n",
    "                'obs': y_test[i].item(),\n",
    "                'truth': y_test_true[i],\n",
    "                'bias': pred.item() - y_test_true[i],\n",
    "                'tau_hat2': tau_hat2.item(),\n",
    "                'sigma_hat2': sigma_hat2.item(),\n",
    "                'rn_norm': rn_norm,\n",
    "                'ci_lb': ci_lb.item(),\n",
    "                'ci_ub': ci_ub.item(),\n",
    "                'ci_width': ci_ub.item() - ci_lb.item(),\n",
    "                'ci_covered': ci_covered,\n",
    "                'c_ci_lb': c_ci_lb.item(),\n",
    "                'c_ci_ub': c_ci_ub.item(),\n",
    "                'c_ci_width': c_ci_ub.item() - c_ci_lb.item(),\n",
    "                'c_ci_covered': c_ci_covered,\n",
    "                'pi_lb': pi_lb.item(),\n",
    "                'pi_ub': pi_ub.item(),\n",
    "                'pi_width': pi_ub.item() - pi_lb.item(),\n",
    "                'pi_covered': pi_covered,\n",
    "                'c_pi_lb': c_pi_lb.item(),\n",
    "                'c_pi_ub': c_pi_ub.item(),\n",
    "                'c_pi_width': c_pi_ub.item() - c_pi_lb.item(),\n",
    "                'c_pi_covered': c_pi_covered,\n",
    "                'ri_lb': ri_lb.item(),\n",
    "                'ri_ub': ri_ub.item(),\n",
    "                'ri_width': ri_ub.item() - ri_lb.item(),\n",
    "                'c_ri_lb': c_ri_lb.item(),\n",
    "                'c_ri_ub': c_ri_ub.item(),\n",
    "                'c_ri_width': c_ri_ub.item() - c_ri_lb.item(),\n",
    "                'cfml_lower': cfml_lower.item(),\n",
    "                'cfml_upper': cfml_upper.item(),\n",
    "                'cfml_width': cfml_upper.item() - cfml_lower.item(),\n",
    "                'cfml_covered': cfml_covered,\n",
    "            })\n",
    "    \n",
    "    df = pd.DataFrame(model_results)\n",
    "    df['ci_mean_lb'] = df.groupby('pt_idx')['ci_lb'].transform('mean')\n",
    "    df['ci_mean_ub'] = df.groupby('pt_idx')['ci_ub'].transform('mean')\n",
    "    df['c_ci_mean_lb'] = df.groupby('pt_idx')['c_ci_lb'].transform('mean')\n",
    "    df['c_ci_mean_ub'] = df.groupby('pt_idx')['c_ci_ub'].transform('mean')\n",
    "    df['pi_mean_lb'] = df.groupby('pt_idx')['pi_lb'].transform('mean')\n",
    "    df['pi_mean_ub'] = df.groupby('pt_idx')['pi_ub'].transform('mean')\n",
    "    df['c_pi_mean_lb'] = df.groupby('pt_idx')['c_pi_lb'].transform('mean')\n",
    "    df['c_pi_mean_ub'] = df.groupby('pt_idx')['c_pi_ub'].transform('mean')\n",
    "    df['ri_mean_lb'] = df.groupby('pt_idx')['ri_lb'].transform('mean')\n",
    "    df['ri_mean_ub'] = df.groupby('pt_idx')['ri_ub'].transform('mean')\n",
    "    df['c_ri_mean_lb'] = df.groupby('pt_idx')['c_ri_lb'].transform('mean')\n",
    "    df['c_ri_mean_ub'] = df.groupby('pt_idx')['c_ri_ub'].transform('mean')\n",
    "    df['cfml_mean_lb'] = df.groupby('pt_idx')['cfml_lower'].transform('mean')\n",
    "    df['cfml_mean_ub'] = df.groupby('pt_idx')['cfml_upper'].transform('mean')\n",
    "\n",
    "    ci_coverage_rate = df.groupby('pt_idx')['ci_covered'].mean()\n",
    "    c_ci_coverage_rate = df.groupby('pt_idx')['c_ci_covered'].mean()\n",
    "    df['ci_coverage'] = ci_coverage_rate\n",
    "    df['c_ci_coverage'] = c_ci_coverage_rate\n",
    "    mean_ci_coverage = df['ci_coverage'].mean()\n",
    "    mean_c_ci_coverage = df['c_ci_coverage'].mean()\n",
    "    df['mean_ci_coverage'] = mean_ci_coverage\n",
    "    df['mean_c_ci_coverage'] = mean_c_ci_coverage\n",
    "\n",
    "    cfml_coverage_rate = df.groupby('pt_idx')['cfml_covered'].mean()\n",
    "    df['cfml_coverage'] = cfml_coverage_rate\n",
    "    mean_cfml_coverage = df['cfml_coverage'].mean()\n",
    "    df['mean_cfml_coverage'] = mean_cfml_coverage\n",
    "\n",
    "    pi_coverage_rate = df.groupby('pt_idx')['pi_covered'].mean()\n",
    "    c_pi_coverage_rate = df.groupby('pt_idx')['c_pi_covered'].mean()\n",
    "    df['pi_coverage'] = pi_coverage_rate\n",
    "    df['c_pi_coverage'] = c_pi_coverage_rate\n",
    "    mean_pi_coverage = df['pi_coverage'].mean()\n",
    "    mean_c_pi_coverage = df['c_pi_coverage'].mean()\n",
    "    df['mean_pi_coverage'] = mean_pi_coverage\n",
    "    df['mean_c_pi_coverage'] = mean_c_pi_coverage\n",
    "\n",
    "    ri_coverage_rate = []\n",
    "    c_ri_coverage_rate = []\n",
    "    for _, row in df.iterrows():\n",
    "        ri_coverage_rate.append(\n",
    "            ((df['pred'] >= row['ri_lb']) & (df['pred'] <= row['ri_ub'])).mean()\n",
    "        )\n",
    "        c_ri_coverage_rate.append(\n",
    "            ((df['pred'] >= row['c_ri_lb']) & (df['pred'] <= row['c_ri_ub'])).mean()\n",
    "        )\n",
    "\n",
    "\n",
    "    df['ri_coverage'] = ri_coverage_rate\n",
    "    df['c_ri_coverage'] = c_ri_coverage_rate\n",
    "    mean_ri_coverage = df['ri_coverage'].mean()\n",
    "    mean_c_ri_coverage = df['c_ri_coverage'].mean()\n",
    "    df['mean_ri_coverage'] = mean_ri_coverage\n",
    "    df['mean_c_ri_coverage'] = mean_c_ri_coverage\n",
    "    results.append(df)\n",
    "\n",
    "    # data saved to the following directory. Recommend using data wrangler to see the distributional results of them\n",
    "    file_name = f\"ne_{ne}_lr_{lr}_md_{md}_sr_{sr}_dr_{dr}.csv\"\n",
    "    df.to_csv(os.path.join(output_dir, file_name), index=False)\n",
    "\n",
    "    bratd_mean = df.groupby('pt_idx')['pred'].mean().values\n",
    "    bratd_mean_ci_lb = df.groupby('pt_idx')['ci_lb'].mean().values\n",
    "    bratd_mean_ci_ub = df.groupby('pt_idx')['ci_ub'].mean().values\n",
    "    bratd_mean_pi_lb = df.groupby('pt_idx')['pi_lb'].mean().values\n",
    "    bratd_mean_pi_ub = df.groupby('pt_idx')['pi_ub'].mean().values\n",
    "    bratd_mean_ri_lb = df.groupby('pt_idx')['ri_lb'].mean().values\n",
    "    bratd_mean_ri_ub = df.groupby('pt_idx')['ri_ub'].mean().values\n",
    "    bratd_mean_cfml_lb = df.groupby('pt_idx')['cfml_lower'].mean().values\n",
    "    bratd_mean_cfml_ub = df.groupby('pt_idx')['cfml_upper'].mean().values\n",
    "    \n",
    "    sort_idx = np.argsort(X_test.ravel())\n",
    "    X_test_s = X_test.ravel()[sort_idx]\n",
    "    pred_s = bratd_mean[sort_idx]\n",
    "    ci_lb_s = bratd_mean_ci_lb[sort_idx]\n",
    "    ci_ub_s = bratd_mean_ci_ub[sort_idx]\n",
    "    pi_lb_s = bratd_mean_pi_lb[sort_idx]\n",
    "    pi_ub_s = bratd_mean_pi_ub[sort_idx]\n",
    "    ri_lb_s = bratd_mean_ri_lb[sort_idx]\n",
    "    ri_ub_s = bratd_mean_ri_ub[sort_idx]\n",
    "    cfml_lb_s = bratd_mean_cfml_lb[sort_idx]\n",
    "    cfml_ub_s = bratd_mean_cfml_ub[sort_idx]\n",
    "\n",
    "    data_dir = './1d/data'\n",
    "    os.makedirs(data_dir, exist_ok=True)\n",
    "\n",
    "    # -------- Plotting ----------- #\n",
    "    fig, axes = plt.subplots(1, 4, figsize=(8, 2), sharey=True)\n",
    "\n",
    "    true_plot = f(X_plot)\n",
    "\n",
    "    # Confidence Interval\n",
    "    ax = axes[0]\n",
    "    ax.scatter(X_train, y_train, color='grey', alpha=0.3, s=5, label='Training Data')\n",
    "    ax.plot(X_test_s, pred_s, '-', color=darken(\"#00BEFF\",1.0), linewidth=1, label='Mean Prediction')\n",
    "    ax.fill_between(X_test_s, ci_lb_s, ci_ub_s, facecolor=\"#00BEFF\", edgecolor=\"#00BEFF\", alpha=0.4)\n",
    "    ax.plot(X_plot, true_plot, 'k--', linewidth=1, zorder=5, label='True Function')  \n",
    "    ax.text(0.05, 0.95, f'Coverage: {mean_ci_coverage:.2%}',\n",
    "            transform=ax.transAxes, fontsize=8, verticalalignment='top',\n",
    "            bbox=dict(boxstyle='round', facecolor='white', alpha=0.2))\n",
    "    leg = ax.legend(['Training Data', 'Prediction', 'CI', 'True Function'], loc='lower left', fontsize=6)\n",
    "    leg.get_frame().set_alpha(0.3)\n",
    "    ax.set_title(\"CI\", fontsize=9)\n",
    "\n",
    "    # Reproduction Interval\n",
    "    ax = axes[1]\n",
    "    ax.scatter(X_train, y_train, color='grey', alpha=0.3, s=5)\n",
    "    ax.plot(X_test_s, pred_s, '-', color=darken(\"#7CAE00\",1.0), linewidth=1)\n",
    "    ax.fill_between(X_test_s, ri_lb_s, ri_ub_s, facecolor=\"#7CAE00\", edgecolor=\"#7CAE00\", alpha=0.4)\n",
    "    ax.plot(X_plot, true_plot, 'k--', linewidth=1, zorder=5, label='True Function')\n",
    "    ax.text(0.05, 0.95, f'Coverage: {mean_ri_coverage:.2%}',\n",
    "            transform=ax.transAxes, fontsize=8, verticalalignment='top',\n",
    "            bbox=dict(boxstyle='round', facecolor='white', alpha=0.2))\n",
    "    leg = ax.legend(['Training Data', 'Prediction', 'RI', 'True Function'], loc='lower left', fontsize=6)\n",
    "    leg.get_frame().set_alpha(0.3)\n",
    "    ax.set_title(\"RI\", fontsize=9)\n",
    "\n",
    "    # Prediction Interval\n",
    "    ax = axes[2]\n",
    "    ax.scatter(X_train, y_train, color='grey', alpha=0.3, s=5)\n",
    "    ax.plot(X_test_s, pred_s, '-', color=darken(\"#F8766D\",1.0), linewidth=1)\n",
    "    ax.fill_between(X_test_s, pi_lb_s, pi_ub_s, facecolor=\"#F8766D\", edgecolor=\"#F8766D\", alpha=0.4)\n",
    "    ax.plot(X_plot, true_plot, 'k--', linewidth=1, zorder=5, label='True Function')\n",
    "    ax.text(0.05, 0.95, f'Coverage: {mean_pi_coverage:.2%}',\n",
    "            transform=ax.transAxes, fontsize=8, verticalalignment='top',\n",
    "            bbox=dict(boxstyle='round', facecolor='white', alpha=0.2))\n",
    "    leg = ax.legend(['Training Data', 'Prediction', 'PI', 'True Function'], loc='lower left', fontsize=6)\n",
    "    leg.get_frame().set_alpha(0.3)\n",
    "    ax.set_title(\"PI\", fontsize=9)\n",
    "\n",
    "    # 4) Conformal Interval\n",
    "    ax = axes[3]\n",
    "    ax.scatter(X_train, y_train, color='grey', alpha=0.3, s=5)\n",
    "    ax.plot(X_test_s, pred_s, '-', color=darken(\"#C77CFF\",1.0), linewidth=1)\n",
    "    ax.fill_between(X_test_s, cfml_lb_s, cfml_ub_s, facecolor=\"#C77CFF\", edgecolor=\"#C77CFF\", alpha=0.4)\n",
    "    ax.plot(X_plot, true_plot, 'k--', linewidth=1, zorder=5, label='True Function')\n",
    "    ax.text(0.05, 0.95, f'Coverage: {mean_cfml_coverage:.2%}',\n",
    "            transform=ax.transAxes, fontsize=8, verticalalignment='top',\n",
    "            bbox=dict(boxstyle='round', facecolor='white', alpha=0.2))\n",
    "    leg = ax.legend(['Training Data', 'Prediction', 'Conformal PI', 'True Function'], loc='lower left', fontsize=6)\n",
    "    leg.get_frame().set_alpha(0.3)\n",
    "    ax.set_title(\"Conformal PI\", fontsize=9)\n",
    "\n",
    "    plt.tight_layout()\n",
    "    path = './1d/plots/'\n",
    "    fig.savefig(path + f'ne_{ne}_lr_{lr}_md_{md}_sr_{sr}_dr_{dr}_here.png', dpi=500)\n",
    "    plt.close(fig)"
   ]
  },
  {
   "cell_type": "code",
   "execution_count": null,
   "metadata": {},
   "outputs": [],
   "source": []
  },
  {
   "cell_type": "code",
   "execution_count": null,
   "metadata": {},
   "outputs": [],
   "source": []
  }
 ],
 "metadata": {
  "kernelspec": {
   "display_name": ".venv",
   "language": "python",
   "name": "python3"
  },
  "language_info": {
   "codemirror_mode": {
    "name": "ipython",
    "version": 3
   },
   "file_extension": ".py",
   "mimetype": "text/x-python",
   "name": "python",
   "nbconvert_exporter": "python",
   "pygments_lexer": "ipython3",
   "version": "3.9.6"
  }
 },
 "nbformat": 4,
 "nbformat_minor": 2
}

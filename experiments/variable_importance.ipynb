{
 "cells": [
  {
   "cell_type": "markdown",
   "metadata": {},
   "source": [
    "# Variable Importance Test"
   ]
  },
  {
   "cell_type": "code",
   "execution_count": 1,
   "metadata": {},
   "outputs": [],
   "source": [
    "import sys, os\n",
    "sys.path.insert(0, os.path.abspath(\"../src\"))\n",
    "import numpy as np\n",
    "import pandas as pd\n",
    "import matplotlib.pyplot as plt\n",
    "from scipy.stats import chi2\n",
    "from sklearn.model_selection import train_test_split\n",
    "from tqdm import tqdm\n",
    "from BRAT.algorithms import BRATD"
   ]
  },
  {
   "cell_type": "markdown",
   "metadata": {},
   "source": [
    "## Data Generating Process"
   ]
  },
  {
   "cell_type": "code",
   "execution_count": 2,
   "metadata": {},
   "outputs": [],
   "source": [
    "rng = np.random.default_rng(0)\n",
    "n, d = 1000, 5\n",
    "X = rng.uniform(0, 1, (n, d))\n",
    "y = np.sin(2*np.pi*X[:,0]) + 0.5*X[:,1] + rng.normal(scale=1, size=n)\n",
    "\n",
    "X_train, X_hold, y_train, y_hold = train_test_split(\n",
    "    X, y, test_size=0.1, random_state=0\n",
    ")\n",
    "d_check = 2\n",
    "X_train_sub = X_train[:, :d_check]\n",
    "X_hold_sub  = X_hold[:,  :d_check]"
   ]
  },
  {
   "cell_type": "markdown",
   "metadata": {},
   "source": [
    "## Model Fitting"
   ]
  },
  {
   "cell_type": "code",
   "execution_count": 3,
   "metadata": {},
   "outputs": [
    {
     "name": "stdout",
     "output_type": "stream",
     "text": [
      "Building BRATD trees: 100%|██████████| 100/100 [00:02<00:00, 43.30it/s]\n",
      "Building BRATD trees: 100%|██████████| 100/100 [00:02<00:00, 46.84it/s]\n"
     ]
    },
    {
     "data": {
      "text/plain": [
       "[1.4464574582835485,\n",
       " 1.3464828841600371,\n",
       " 1.1833568392082505,\n",
       " 1.1466684244639778,\n",
       " 1.0727482010942442,\n",
       " 1.0617200034834087,\n",
       " 1.046926495204276,\n",
       " 1.0455525441535798,\n",
       " 1.0477149173829148,\n",
       " 1.0388746754676796,\n",
       " 1.0351860442603322,\n",
       " 1.0385198133745006,\n",
       " 1.064942101186553,\n",
       " 1.0682184975608617,\n",
       " 1.068483770245649,\n",
       " 1.0635705921644876,\n",
       " 1.0672409157257774,\n",
       " 1.0905133061193635,\n",
       " 1.0914797794538498,\n",
       " 1.0941095801810272,\n",
       " 1.1034156836091966,\n",
       " 1.1083096396743892,\n",
       " 1.1044643727539354,\n",
       " 1.1016663202326458,\n",
       " 1.1027686497981655,\n",
       " 1.093500070243099,\n",
       " 1.0988344227880384,\n",
       " 1.1031036323090953,\n",
       " 1.0937387787059003,\n",
       " 1.0938414593649728,\n",
       " 1.0914300632788816,\n",
       " 1.0934747930408562,\n",
       " 1.0921581739740294,\n",
       " 1.0978898085718516,\n",
       " 1.0975456292438435,\n",
       " 1.0893839443160644,\n",
       " 1.0888445748702522,\n",
       " 1.0929379622966886,\n",
       " 1.093873879960964,\n",
       " 1.0936735122439465,\n",
       " 1.092283712654462,\n",
       " 1.0900287321280762,\n",
       " 1.0902584318273911,\n",
       " 1.0877711986460776,\n",
       " 1.0874982033058582,\n",
       " 1.0879654671638375,\n",
       " 1.0900082632761139,\n",
       " 1.0939204013124615,\n",
       " 1.0938896933890452,\n",
       " 1.092120809678451,\n",
       " 1.0893412012309907,\n",
       " 1.0899686841790168,\n",
       " 1.0892782803274406,\n",
       " 1.089480042540831,\n",
       " 1.086728462631702,\n",
       " 1.087181342657609,\n",
       " 1.0874254104360188,\n",
       " 1.0857559743719838,\n",
       " 1.085535561156864,\n",
       " 1.0876425877718066,\n",
       " 1.0851894806341895,\n",
       " 1.0817519792243042,\n",
       " 1.083716688056845,\n",
       " 1.0821097942487639,\n",
       " 1.0839025223653533,\n",
       " 1.0863889523953467,\n",
       " 1.0870673612590673,\n",
       " 1.0858881015298938,\n",
       " 1.0870290728722367,\n",
       " 1.086508413511341,\n",
       " 1.0852051091434074,\n",
       " 1.0844840100052973,\n",
       " 1.0852671108144667,\n",
       " 1.0862298413083538,\n",
       " 1.0860340595309328,\n",
       " 1.084806962407527,\n",
       " 1.085289945293299,\n",
       " 1.0843972178957977,\n",
       " 1.0811550812624977,\n",
       " 1.079945636203116,\n",
       " 1.0812460692205645,\n",
       " 1.0847419563098157,\n",
       " 1.0851463918490454,\n",
       " 1.0849387106311972,\n",
       " 1.0845126291636866,\n",
       " 1.085491254491289,\n",
       " 1.0829002520861521,\n",
       " 1.0817670634550236,\n",
       " 1.082172780223849,\n",
       " 1.078427147458219,\n",
       " 1.0764528650666834,\n",
       " 1.078486111167607,\n",
       " 1.07878734829774,\n",
       " 1.0778770632068264,\n",
       " 1.076898930687112,\n",
       " 1.0775742062341056,\n",
       " 1.0769692893003089,\n",
       " 1.0766129995373448,\n",
       " 1.0779825412563482,\n",
       " 1.0792765046765127]"
      ]
     },
     "execution_count": 3,
     "metadata": {},
     "output_type": "execute_result"
    }
   ],
   "source": [
    "common = dict(\n",
    "    n_estimators   = 100,\n",
    "    learning_rate  = 1.0,\n",
    "    max_depth      = 6,\n",
    "    subsample_rate = 0.8,\n",
    "    dropout_rate   = 0.8,\n",
    "    disable_tqdm   = False,\n",
    ")\n",
    "model_full = BRATD(**common)\n",
    "model_full.fit(X_train,    y_train, X_hold,    y_hold)\n",
    "\n",
    "model_sub = BRATD(**common)\n",
    "model_sub.fit(X_train_sub, y_train, X_hold_sub, y_hold)"
   ]
  },
  {
   "cell_type": "markdown",
   "metadata": {},
   "source": [
    "## The Difference Vectors"
   ]
  },
  {
   "cell_type": "code",
   "execution_count": 4,
   "metadata": {},
   "outputs": [
    {
     "name": "stderr",
     "output_type": "stream",
     "text": [
      "Sketching R_full, R_sub: 100%|██████████| 100/100 [10:37<00:00,  6.37s/it]\n"
     ]
    }
   ],
   "source": [
    "model_full.full_K()\n",
    "model_sub .full_K()\n",
    "\n",
    "m_pts = X_hold.shape[0]\n",
    "n_train = X_train.shape[0]\n",
    "\n",
    "R_full = np.zeros((m_pts, n_train))\n",
    "R_sub  = np.zeros((m_pts, n_train))\n",
    "\n",
    "for j, x in tqdm(enumerate(X_hold), desc = \"Sketching R_full, R_sub\", total=m_pts):\n",
    "    rn_full, _ = model_full.sketch_r(x, vector=True)\n",
    "    rn_sub,  _ = model_sub .sketch_r(x[:d_check], vector=True)\n",
    "    R_full[j, :] = rn_full\n",
    "    R_sub [j, :] = rn_sub\n",
    "\n",
    "R_diff = R_full - R_sub  # shape: m*n"
   ]
  },
  {
   "cell_type": "markdown",
   "metadata": {},
   "source": [
    "## Estimating Noise Variance"
   ]
  },
  {
   "cell_type": "code",
   "execution_count": 5,
   "metadata": {},
   "outputs": [],
   "source": [
    "full_sigma2 = model_full.est_sigma_hat2(in_bag=False)\n",
    "sub_sigma2  = model_sub.est_sigma_hat2(in_bag=False)\n",
    "sigma2 = (full_sigma2 + sub_sigma2) / 2"
   ]
  },
  {
   "cell_type": "markdown",
   "metadata": {},
   "source": [
    "## VCV matrix calculation"
   ]
  },
  {
   "cell_type": "code",
   "execution_count": 6,
   "metadata": {},
   "outputs": [],
   "source": [
    "Sigma = sigma2 * (R_diff @ R_diff.T)\n",
    "Sigma += 1e-8 * np.eye(m_pts)      # numerical ridge\n",
    "Sigma_inv = np.linalg.inv(Sigma)"
   ]
  },
  {
   "cell_type": "markdown",
   "metadata": {},
   "source": [
    "## Test Statistics"
   ]
  },
  {
   "cell_type": "code",
   "execution_count": 7,
   "metadata": {},
   "outputs": [
    {
     "name": "stdout",
     "output_type": "stream",
     "text": [
      "==============================================\n",
      "Chi2 test (m = 100 test points)\n",
      "  Test statistic     T = 445.998\n",
      "  Degrees of freedom    = 100\n",
      "  sigma_hat2               = 1.1013e+00\n",
      "  p-value               = 0\n",
      "  Decision (alpha=0.05): REJECT\n",
      "==============================================\n"
     ]
    }
   ],
   "source": [
    "delta = model_full.predict(X_hold) - model_sub.predict(X_hold_sub)  # m-vector\n",
    "T = float(delta.T @ Sigma_inv @ delta)\n",
    "p_val = 1 - chi2.cdf(T, df=m_pts)\n",
    "\n",
    "print(\"==============================================\")\n",
    "print(f\"Chi2 test (m = {m_pts} test points)\")\n",
    "print(f\"  Test statistic     T = {T:.3f}\")\n",
    "print(f\"  Degrees of freedom    = {m_pts}\")\n",
    "print(f\"  sigma_hat2               = {sigma2:.4e}\")\n",
    "print(f\"  p-value               = {p_val:.4g}\")\n",
    "print(\"  Decision (alpha=0.05):\", \"REJECT\" if p_val < 0.05 else \"FAIL TO REJECT\")\n",
    "print(\"==============================================\")"
   ]
  },
  {
   "cell_type": "markdown",
   "metadata": {},
   "source": [
    "# Type I, II Error"
   ]
  },
  {
   "cell_type": "code",
   "execution_count": 8,
   "metadata": {},
   "outputs": [],
   "source": [
    "rng = np.random.default_rng(66)\n",
    "def run_test(n, weight_third=0.0, d=5, m_hold_pct=0.1, **common):\n",
    "    \"\"\"\n",
    "    Runs the variable importance test for one dataset of size n.\n",
    "    weight_third: signal weight for the third covariate (null=0, alternative>0).\n",
    "    Returns p-value.\n",
    "    \"\"\"\n",
    "    X = rng.uniform(0, 5, (n, d))\n",
    "    # Generate y with optional signal in X[:,2]\n",
    "    y = (4 * X[:,0]\n",
    "        - X[:,1]**2\n",
    "        + weight_third * (X[:,2])\n",
    "        + rng.normal(scale=0.01, size=n)\n",
    "        )\n",
    "\n",
    "    \n",
    "    # Train/hold split\n",
    "    X_train, X_hold, y_train, y_hold = train_test_split(\n",
    "        X, y, test_size=m_hold_pct, random_state=0\n",
    "    )\n",
    "    d_check = 2\n",
    "    X_train_sub = X_train[:, :d_check]\n",
    "    X_hold_sub  = X_hold[:,  :d_check]\n",
    "    \n",
    "    # Fit full and sub models\n",
    "    model_full = BRATD(**common)\n",
    "    model_full.fit(X_train, y_train, X_hold, y_hold)\n",
    "    model_sub = BRATD(**common)\n",
    "    model_sub.fit(X_train_sub, y_train, X_hold_sub, y_hold)\n",
    "    \n",
    "    # Build R matrices\n",
    "    model_full.full_K()\n",
    "    model_sub.full_K()\n",
    "    m_pts = X_hold.shape[0]\n",
    "    n_train = X_train.shape[0]\n",
    "    \n",
    "    R_full = np.zeros((m_pts, n_train))\n",
    "    R_sub  = np.zeros((m_pts, n_train))\n",
    "    for j, x in enumerate(X_hold):\n",
    "        rn_full, _ = model_full.sketch_r(x, vector=True)\n",
    "        rn_sub,  _ = model_sub.sketch_r(x[:d_check], vector=True)\n",
    "        R_full[j, :] = rn_full\n",
    "        R_sub [j, :] = rn_sub\n",
    "    \n",
    "    R_diff = R_full - R_sub\n",
    "    full_sigma2 = model_full.est_sigma_hat2(in_bag=False)\n",
    "    sigma2 = full_sigma2\n",
    "    \n",
    "    Sigma = sigma2 * (R_diff @ R_diff.T)\n",
    "    Sigma_inv = np.linalg.pinv(Sigma)\n",
    "    \n",
    "    delta = model_full.predict(X_hold) - model_sub.predict(X_hold_sub)\n",
    "    T = float(delta.T @ Sigma_inv @ delta)\n",
    "    p_val = 1 - chi2.cdf(T, df=m_pts)\n",
    "    return R_diff, sigma2, Sigma, Sigma_inv, T, p_val"
   ]
  },
  {
   "cell_type": "code",
   "execution_count": 9,
   "metadata": {},
   "outputs": [
    {
     "name": "stderr",
     "output_type": "stream",
     "text": [
      "Type I at n=20: 100%|██████████| 30/30 [01:55<00:00,  3.85s/it]\n",
      "Type II at n=20: 100%|██████████| 30/30 [02:03<00:00,  4.13s/it]\n"
     ]
    },
    {
     "name": "stdout",
     "output_type": "stream",
     "text": [
      "R_diff under null:       -0.000 ± 0.161\n",
      "sigma2 under null:       96.514 ± 89.902\n",
      "T-statistic under null:  0.509 ± 0.519\n",
      "R_diff under alt:        0.000 ± 0.188\n",
      "sigma2 under alt:        249.033 ± 271.113\n",
      "T-statistic under alt:   52.469 ± 269.063\n",
      "Type I error at n=20: 0.000\n",
      "Test statistic under null: (0.3377381103371066, 0.48696022639056785, 0.020570675549888118, 0.10972753650201317, 0.5257164187069728, 0.6159933989514949, 0.3336750678707323, 0.9238729721501525, 0.1850862942655301, 0.4270794432298258, 0.09857278072899364, 0.846847740700813, 0.08990415759660775, 0.3453558427621142, 2.3887279431357267, 1.6586345006091348, 0.28682171404805773, 0.028463301574949848, 0.7072068979203388, 0.8292987018580963, 0.38550882069014464, 1.194285097546351, 0.9017990512475457, 0.26317732186532833, 0.6493580467226538, 0.31390282984186285, 0.027783598127393838, 0.27336010515359477, 0.001431093612232794, 0.007736382224931242)\n",
      "Type II error at n=20: 0.900\n",
      "Test statistic under alternative: (1.1524302865533662, 0.05076635631452076, 28.359252396072144, 0.40174260054004535, 0.0018430371276535698, 0.5872976510235653, 1.9209719650517187, 2.9159759133794445, 5.276510430077535, 4.934555885262699, 0.0001708600752221159, 0.19009852648322634, 1501.1580307115473, 1.0412152271812842, 1.0337434760050972, 0.17106563212495102, 0.2068559437496345, 4.18887381770146, 2.3525900165606908, 1.0171768383391628, 0.7067534396118474, 0.057415736850922244, 0.8676925033766639, 0.9768316955529558, 1.3441568972887714, 1.0246448952646454, 1.2160805771007273, 2.528862368842205, 6.952849910969519, 1.422500083993258)\n"
     ]
    },
    {
     "name": "stderr",
     "output_type": "stream",
     "text": [
      "Type I at n=30: 100%|██████████| 30/30 [02:08<00:00,  4.27s/it]\n",
      "Type II at n=30: 100%|██████████| 30/30 [02:10<00:00,  4.35s/it]\n"
     ]
    },
    {
     "name": "stdout",
     "output_type": "stream",
     "text": [
      "R_diff under null:       -0.000 ± 0.124\n",
      "sigma2 under null:       49.463 ± 52.637\n",
      "T-statistic under null:  2.577 ± 5.443\n",
      "R_diff under alt:        0.000 ± 0.175\n",
      "sigma2 under alt:        93.475 ± 64.941\n",
      "T-statistic under alt:   3.283 ± 3.830\n",
      "Type I error at n=30: 0.100\n",
      "Test statistic under null: (0.6547659856700493, 0.41982490532105315, 0.45511339365407893, 26.431889032594597, 0.6429589995907927, 0.10552985745369103, 1.2095400878477016, 0.2395856548918124, 0.9382509043213827, 0.30411483377555804, 0.1821648341996703, 0.3348594663559309, 0.10333131351996748, 3.0045338304054394, 0.7514035772609355, 0.2637492772707225, 0.2505108454391067, 0.2356223716765298, 1.3841234095435404, 0.1899637166792121, 0.5669164316786595, 2.403111974016596, 0.9890212249567937, 1.2650205218820483, 13.25172847126184, 12.888571515548712, 1.1759603627841058, 0.0668359823762661, 3.644607828930647, 2.945964357017999)\n",
      "Type II error at n=30: 0.900\n",
      "Test statistic under alternative: (3.7017663292553133, 0.7551731916162697, 0.051540333637708914, 15.896103133294586, 1.129313065369939, 0.6592545122268206, 0.02989272734374003, 1.5714637546451222, 7.657562005843368, 0.2976615379298383, 12.497033352780106, 0.9983554059138755, 2.2529074055124036, 6.521216276780883, 4.538228409591605, 1.444261722404084, 5.127038638146056, 2.182567889404459, 2.184417990233534, 1.8891645933139831, 3.2311294630790433, 1.2948474965828638, 2.1667326218877228, 11.365631391719704, 0.08727457859736476, 2.355034551360262, 1.8358494754329564, 0.13767388532663302, 1.5903884513210635, 3.0359460102582125)\n"
     ]
    },
    {
     "name": "stderr",
     "output_type": "stream",
     "text": [
      "Type I at n=50: 100%|██████████| 30/30 [03:05<00:00,  6.19s/it]\n",
      "Type II at n=50: 100%|██████████| 30/30 [03:09<00:00,  6.30s/it]\n"
     ]
    },
    {
     "name": "stdout",
     "output_type": "stream",
     "text": [
      "R_diff under null:       0.000 ± 0.097\n",
      "sigma2 under null:       20.935 ± 16.933\n",
      "T-statistic under null:  2.032 ± 2.390\n",
      "R_diff under alt:        -0.000 ± 0.140\n",
      "sigma2 under alt:        67.565 ± 45.692\n",
      "T-statistic under alt:   16.716 ± 26.149\n",
      "Type I error at n=50: 0.033\n",
      "Test statistic under null: (1.7080781515608905, 1.825184383896835, 1.1297107429932567, 0.7109708357700456, 1.1387988810502616, 0.41377926795629266, 0.20044971111440257, 0.2235514299565468, 0.6560522027392696, 0.8354823261446187, 11.576002249053317, 2.907880091084321, 5.293337216485853, 1.1543399676555635, 0.7250749622100762, 2.0348572929861324, 0.49254104170259344, 1.3982333893041545, 1.1973565213810895, 0.9709714715410765, 7.307082392506304, 3.604594381230632, 0.22445597651124358, 1.31115090663483, 2.66224998553142, 0.4129583555508503, 3.565464338155992, 3.723598830238712, 0.4686493890436199, 1.083613119976661)\n",
      "Type II error at n=50: 0.700\n",
      "Test statistic under alternative: (5.455478157302748, 4.184468683799138, 5.582713154229119, 10.44442468761053, 8.475967709612467, 81.42652340936141, 49.58478573913604, 2.6054614928309334, 6.057723973875545, 24.173137047514516, 5.496192023940996, 31.458025660717816, 2.7936088708222697, 4.024793683013795, 4.4344975934781505, 22.68538573537213, 4.913259435144834, 5.191093073687367, 17.092479963196826, 125.32003880341742, 5.800766549857361, 2.9184674696109227, 5.628588695265552, 5.578766425966463, 26.66796752193747, 1.6940407167118878, 4.123789750613958, 6.547803900622269, 0.7895604472893898, 20.336452493489467)\n"
     ]
    },
    {
     "name": "stderr",
     "output_type": "stream",
     "text": [
      "Type I at n=80: 100%|██████████| 30/30 [06:11<00:00, 12.40s/it]\n",
      "Type II at n=80: 100%|██████████| 30/30 [05:38<00:00, 11.29s/it]\n"
     ]
    },
    {
     "name": "stdout",
     "output_type": "stream",
     "text": [
      "R_diff under null:       0.000 ± 0.075\n",
      "sigma2 under null:       9.345 ± 8.887\n",
      "T-statistic under null:  4.515 ± 4.417\n",
      "R_diff under alt:        -0.000 ± 0.111\n",
      "sigma2 under alt:        49.866 ± 28.919\n",
      "T-statistic under alt:   21.903 ± 14.785\n",
      "Type I error at n=80: 0.033\n",
      "Test statistic under null: (5.896718950392613, 2.4701617531374884, 4.567754332990786, 9.618146762684779, 24.669578815097516, 5.147107075857308, 1.60643792202481, 8.474679191064219, 1.8316867975504834, 5.143929208458825, 5.123212467277197, 5.7054975519600895, 4.163993423369435, 8.222149984750109, 1.1388317283168559, 0.755796639818026, 4.960977396572868, 6.127979793951516, 1.5518989879682454, 1.20431061559719, 3.411168639092079, 0.865580853664355, 1.8589936939363836, 4.72415511678525, 3.243772246947646, 2.9827186732170574, 2.0159361506528795, 5.086028592228493, 1.5095837784500832, 1.3658026987325407)\n",
      "Type II error at n=80: 0.433\n",
      "Test statistic under alternative: (42.386790675516465, 31.32701037457389, 26.083045626003937, 44.89553631165191, 17.50696023369775, 3.773225054827649, 21.191429023631844, 7.105078020199884, 8.95131215616712, 30.65239622173754, 22.884376148238665, 2.340633240408466, 30.821422760491355, 14.447305848739589, 46.29471979786984, 19.935397087801043, 16.888339790884018, 63.537842100114965, 10.472166924628063, 6.735297976249509, 11.122169150728897, 21.649133987844543, 15.312792653794627, 36.61059078991262, 14.817226568929147, 16.560218623612624, 44.34985574173622, 5.892677389673819, 8.691257844808128, 13.840516605249869)\n"
     ]
    },
    {
     "name": "stderr",
     "output_type": "stream",
     "text": [
      "Type I at n=100: 100%|██████████| 30/30 [06:25<00:00, 12.84s/it]\n",
      "Type II at n=100: 100%|██████████| 30/30 [06:25<00:00, 12.86s/it]\n"
     ]
    },
    {
     "name": "stdout",
     "output_type": "stream",
     "text": [
      "R_diff under null:       -0.000 ± 0.065\n",
      "sigma2 under null:       8.789 ± 5.783\n",
      "T-statistic under null:  4.455 ± 3.945\n",
      "R_diff under alt:        -0.000 ± 0.096\n",
      "sigma2 under alt:        39.215 ± 24.013\n",
      "T-statistic under alt:   45.153 ± 39.998\n",
      "Type I error at n=100: 0.000\n",
      "Test statistic under null: (1.3724555445534394, 8.710462680516336, 1.8651291629913778, 1.1730515278752378, 10.001364832230719, 2.0896325919347367, 2.0769112624727, 2.4780213895381817, 2.9556028389767888, 5.604840252195058, 4.031558676255876, 2.5142252958991334, 2.886680652938644, 2.2783567213660962, 2.2005696470713163, 2.6281939989705005, 0.6628760196836415, 6.013878924018828, 6.9321883413135845, 3.3726602587832084, 1.373625134239923, 9.796582648805275, 2.737379622597514, 1.2428702615677267, 4.224520751532121, 1.584976200265423, 14.577334993836164, 2.5974065222289187, 6.634779675304805, 17.035608551892093)\n",
      "Type II error at n=100: 0.200\n",
      "Test statistic under alternative: (117.28711771207408, 114.02909072616674, 27.506514640174288, 18.648634613590023, 49.6062609609917, 10.778260886682235, 50.19238838467333, 29.88801502242616, 17.68010628919477, 35.49824839950019, 78.61633280206567, 93.27871100613932, 15.900715536010871, 37.94561577668717, 25.67209402942499, 39.92375652429272, 28.59849734853101, 15.888398429868886, 41.348708582665274, 12.33184329120922, 21.993967858462618, 197.81817270618075, 26.550696891992743, 55.842777139330465, 26.97284646993718, 22.15613626372925, 75.87874166088807, 28.971047244444083, 20.5635470446185, 17.2169478446494)\n"
     ]
    },
    {
     "name": "stderr",
     "output_type": "stream",
     "text": [
      "Type I at n=200: 100%|██████████| 30/30 [20:50<00:00, 41.69s/it]\n",
      "Type II at n=200: 100%|██████████| 30/30 [10:29<00:00, 20.98s/it]\n"
     ]
    },
    {
     "name": "stdout",
     "output_type": "stream",
     "text": [
      "R_diff under null:       -0.000 ± 0.042\n",
      "sigma2 under null:       4.510 ± 1.917\n",
      "T-statistic under null:  14.618 ± 21.034\n",
      "R_diff under alt:        0.000 ± 0.062\n",
      "sigma2 under alt:        18.630 ± 6.011\n",
      "T-statistic under alt:   161.199 ± 69.213\n",
      "Type I error at n=200: 0.067\n",
      "Test statistic under null: (5.135988884871345, 5.251827524538758, 23.77174935976591, 5.642583741601294, 10.737524051882444, 6.613433713991807, 6.3751329588729355, 19.743030781902842, 8.850094178600049, 11.280406011765013, 5.7261606090829265, 2.3439443605274617, 7.21299499909734, 10.475377946639835, 10.406537169620197, 2.5268828649723005, 29.56012075456581, 4.250989013256056, 14.203525914116106, 15.161532793063682, 6.7680645517244455, 12.967386181580688, 3.060624395073728, 118.05717506584446, 6.658995960458153, 28.28172861497518, 4.798466573765745, 4.426766361019338, 10.189086011833533, 38.05257152453323)\n",
      "Type II error at n=200: 0.000\n",
      "Test statistic under alternative: (303.45039153007735, 186.77772474699037, 359.52119644913, 111.3866326609622, 75.80227354123804, 166.46014890895145, 104.23135698737406, 185.60663415394043, 161.54220086002516, 101.65992947721477, 166.98069315475811, 240.48500259681782, 120.73325171548647, 206.39086597695825, 55.47711016448956, 84.7659194093911, 138.650024768467, 213.04770325925531, 173.33289270488996, 282.1643513640813, 118.33389784108124, 171.56713449623857, 143.576330416525, 104.32149598969528, 199.59308136724553, 65.16089426309864, 170.54416430680052, 191.05746210189136, 126.05839861449232, 107.28658069327122)\n",
      "Saved summary to ./variable_importance/size_and_power.csv\n"
     ]
    },
    {
     "data": {
      "image/png": "[encoded data removed]",
      "text/plain": [
       "<Figure size 200x200 with 1 Axes>"
      ]
     },
     "metadata": {},
     "output_type": "display_data"
    }
   ],
   "source": [
    "# Simulation settings\n",
    "n_list = [20, 30, 50, 80, 100, 200]\n",
    "train_n_list = [n * 0.9 for n in n_list]\n",
    "\n",
    "reps = 30\n",
    "common_params = dict(\n",
    "    n_estimators   = 100,\n",
    "    learning_rate  = 1.0,\n",
    "    max_depth      = 8,\n",
    "    subsample_rate = 1.0,\n",
    "    dropout_rate   = 0.95,\n",
    "    disable_tqdm   = True,\n",
    ")\n",
    "\n",
    "type1_errors = []\n",
    "type2_errors = []\n",
    "\n",
    "for n in n_list:\n",
    "    results_null = [run_test(n, weight_third=0.0, **common_params) for _ in tqdm(range(reps), desc=f\"Type I at n={n}\")]\n",
    "    results_alt  = [run_test(n, weight_third=5.0, **common_params) for _ in tqdm(range(reps), desc=f\"Type II at n={n}\")]\n",
    "    R_diffs_null, sigma2s_null, Sigmas_null, Sigmas_inv_null, T_nulls, pvals_nulls = zip(*results_null)\n",
    "    R_diffs_alt, sigma2s_alt, Sigmas_alt, Sigmas_inv_alt, T_alts, pvals_alts = zip(*results_alt)\n",
    "    \n",
    "    # summaries under null\n",
    "    rdn = np.array(R_diffs_null)         # shape (reps, m_hold, n_train)\n",
    "    s2n = np.array(sigma2s_null)         # shape (reps,)\n",
    "    Tin = np.array(T_nulls)              # shape (reps,)\n",
    "\n",
    "    print(f\"R_diff under null:       {rdn.mean():.3f} ± {rdn.std():.3f}\")\n",
    "    print(f\"sigma2 under null:       {s2n.mean():.3f} ± {s2n.std():.3f}\")\n",
    "    print(f\"T-statistic under null:  {Tin.mean():.3f} ± {Tin.std():.3f}\")\n",
    "\n",
    "    # summaries under alt\n",
    "    rda = np.array(R_diffs_alt)\n",
    "    s2a = np.array(sigma2s_alt)\n",
    "    Tia = np.array(T_alts)\n",
    "\n",
    "    print(f\"R_diff under alt:        {rda.mean():.3f} ± {rda.std():.3f}\")\n",
    "    print(f\"sigma2 under alt:        {s2a.mean():.3f} ± {s2a.std():.3f}\")\n",
    "    print(f\"T-statistic under alt:   {Tia.mean():.3f} ± {Tia.std():.3f}\")\n",
    "\n",
    "    # Type I error (false positive rate under null)\n",
    "    type1_errors.append(np.mean(np.array(pvals_nulls) < 0.05))\n",
    "    # Type II error (false negative rate under alternative)\n",
    "    type2_errors.append(np.mean(np.array(pvals_alts) >= 0.05))\n",
    "    print(f\"Type I error at n={n}: {type1_errors[-1]:.3f}\")\n",
    "    print('Test statistic under null:', T_nulls)\n",
    "    print(f\"Type II error at n={n}: {type2_errors[-1]:.3f}\")\n",
    "    print('Test statistic under alternative:', T_alts)\n",
    "\n",
    "out_dir = './variable_importance/'\n",
    "os.makedirs(out_dir, exist_ok=True)\n",
    "\n",
    "results = pd.DataFrame({\n",
    "    'n':            train_n_list,\n",
    "    'type_I_error': type1_errors,\n",
    "    'type_II_error': type2_errors\n",
    "})\n",
    "\n",
    "results.to_csv(os.path.join(out_dir, 'size_and_power.csv'), index=False)\n",
    "print(f\"Saved summary to {os.path.join(out_dir, 'size_and_power.csv')}\")\n",
    "\n",
    "# Plotting\n",
    "plt.figure(figsize=(2, 2))\n",
    "plt.plot(train_n_list, type1_errors, marker='o', label='Type I Error')\n",
    "plt.plot(train_n_list, type2_errors, marker='o', label='Type II Error')\n",
    "plt.xlabel('Training sample size (n)')\n",
    "plt.ylabel('Error rate')\n",
    "plt.title('Type I and Type II Error Curves')\n",
    "plt.legend()\n",
    "plt.tight_layout()\n",
    "plt.show()\n"
   ]
  }
 ],
 "metadata": {
  "kernelspec": {
   "display_name": ".venv",
   "language": "python",
   "name": "python3"
  },
  "language_info": {
   "codemirror_mode": {
    "name": "ipython",
    "version": 3
   },
   "file_extension": ".py",
   "mimetype": "text/x-python",
   "name": "python",
   "nbconvert_exporter": "python",
   "pygments_lexer": "ipython3",
   "version": "3.9.6"
  }
 },
 "nbformat": 4,
 "nbformat_minor": 2
}
